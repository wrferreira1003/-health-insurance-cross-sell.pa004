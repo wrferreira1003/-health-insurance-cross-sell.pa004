{
 "cells": [
  {
   "cell_type": "markdown",
   "metadata": {},
   "source": [
    "## Preparação do Ambiente"
   ]
  },
  {
   "cell_type": "markdown",
   "metadata": {},
   "source": [
    "### Imports"
   ]
  },
  {
   "cell_type": "code",
   "execution_count": 103,
   "metadata": {},
   "outputs": [],
   "source": [
    "import pandas as pd\n",
    "import numpy as np\n",
    "import random\n",
    "import seaborn as sns\n",
    "\n",
    "from tabulate import tabulate\n",
    "from xgboost import XGBClassifier\n",
    "from sklearn.model_selection import RepeatedStratifiedKFold\n",
    "import matplotlib.pyplot as plt"
   ]
  },
  {
   "cell_type": "code",
   "execution_count": 101,
   "metadata": {},
   "outputs": [
    {
     "data": {
      "text/html": [
       "<style>.container { width:100% !important; }</style>"
      ],
      "text/plain": [
       "<IPython.core.display.HTML object>"
      ]
     },
     "metadata": {},
     "output_type": "display_data"
    }
   ],
   "source": [
    "path_data = '/home/wellington/Documentos/Projetos/Projetos_ds_pa/health-insurance-cross-sell.pa04/data/'\n",
    "model_data = '/home/wellington/Documentos/Projetos/Projetos_ds_pa/health-insurance-cross-sell.pa04/models/'\n",
    "\n",
    "display( HTML( '<style>.container { width:100% !important; }</style>') )"
   ]
  },
  {
   "cell_type": "markdown",
   "metadata": {},
   "source": [
    "## Load Data"
   ]
  },
  {
   "cell_type": "code",
   "execution_count": 5,
   "metadata": {},
   "outputs": [],
   "source": [
    "#Train\n",
    "x_train = pd.read_csv(path_data+'x_train.csv', index_col=0)\n",
    "y_train = pd.read_csv(path_data+'y_train.csv', index_col=0)\n",
    "\n",
    "#Validação\n",
    "x_val = pd.read_csv(path_data+'x_val.csv', index_col=0)\n",
    "y_val = pd.read_csv(path_data+'y_val.csv', index_col=0)"
   ]
  },
  {
   "cell_type": "markdown",
   "metadata": {},
   "source": [
    "## Functions\n"
   ]
  },
  {
   "cell_type": "code",
   "execution_count": 104,
   "metadata": {},
   "outputs": [],
   "source": [
    "def gain_lift_curve(yhat, yval, plot = True):\n",
    "    '''\n",
    "    plots gain and lift curve, respectively\n",
    "    returns the curves and a table used to plot the curves\n",
    "    '''\n",
    "\n",
    "    # create table proba with the propensity score for each class (0 and 1)\n",
    "    table_proba = pd.DataFrame(yhat)\n",
    "\n",
    "    # add the 'response' column\n",
    "    table_proba['target'] = yval.values\n",
    "\n",
    "    # add the 'correct' column to evaluate wheter the prediction was right or not\n",
    "    x = lambda x: \"yes\" if x[0] > x[1] and x['target'] == 0 else \"yes\" if x[1] > x[0] and x['target'] == 1 else \"yes\" if x[0] == x[1] else \"no\" \n",
    "    table_proba['correct'] = table_proba.apply(x, axis = 1)\n",
    "\n",
    "    # order by propensity score for the class 1\n",
    "    table_proba.sort_values(1, ascending = False, inplace = True)\n",
    "\n",
    "    # create cumulative propensity score\n",
    "    ## calculate the quantity of class 1 rows\n",
    "    qty_class_1 = table_proba.groupby('target').count().loc[1,1]\n",
    "\n",
    "    ## apply a score for every row which target is 1\n",
    "    x = lambda x: 1/qty_class_1 if x['target'] == 1 else 0\n",
    "    table_proba['propensity_score'] = table_proba.apply(x, axis = 1)\n",
    "    table_proba['cumulative_propensity_score'] = np.cumsum(table_proba['propensity_score'])\n",
    "\n",
    "    # create % cumulative of the base\n",
    "    x = lambda x: 1/len(table_proba)\n",
    "    table_proba['porc_base'] = table_proba.apply(x, axis = 1)\n",
    "    table_proba['cumulative_porc_base'] = np.cumsum(table_proba['porc_base'])\n",
    "    table_proba.drop('porc_base', axis = 1, inplace = True)\n",
    "\n",
    "    # create the lift column\n",
    "    table_proba['lift'] = table_proba['cumulative_propensity_score'] / table_proba['cumulative_porc_base']\n",
    "\n",
    "    if plot:\n",
    "        fig, axes = plt.subplots(2, 1, figsize=(8, 10))\n",
    "\n",
    "        # gap between graphics\n",
    "        fig.tight_layout(pad =5)\n",
    "\n",
    "        # gain curve\n",
    "        sns.lineplot(ax = axes[0], x = table_proba['cumulative_porc_base'], y = table_proba['cumulative_propensity_score'], label=\"cumulative (model)\", linewidth = 2.5);\n",
    "        sns.lineplot(ax = axes[0], x = table_proba['cumulative_porc_base'], y = table_proba['cumulative_porc_base'], label=\"baseline\", linewidth = 2.5, color = 'black' )\n",
    "        axes[0].lines[1].set_linestyle(\"--\")\n",
    "        axes[0].legend()\n",
    "        axes[0].set_title(\"cumulative gains curve\")\n",
    "        axes[0].set_xlabel(\"percentage of sample\")\n",
    "        axes[0].set_ylabel(\"gain\")\n",
    "\n",
    "        # lift curve\n",
    "        ## do not consider the beginning of the series, as it varies a lot (the sample is still small)\n",
    "        table_proba_filtered = table_proba.query('cumulative_porc_base >= 0.1')\n",
    "\n",
    "        sns.lineplot(ax = axes[1], x = table_proba_filtered['cumulative_porc_base'], y = table_proba_filtered['lift'], label=\"model\", linewidth = 2.5 );\n",
    "        sns.lineplot(ax = axes[1], x = table_proba_filtered['cumulative_porc_base'], y = np.ones(len(table_proba_filtered)), label=\"baseline\", linewidth = 2.5, color = 'black' )\n",
    "        axes[1].lines[1].set_linestyle(\"--\")\n",
    "        axes[1].legend()\n",
    "        axes[1].set_title(\"lift curve\")\n",
    "        axes[1].set_xlabel(\"percentage of sample\")\n",
    "\n",
    "        plt.show();\n",
    "        \n",
    "    return (table_proba)\n",
    "\n",
    "\n",
    "\n",
    "def precision_recall_at_k(table, k = 2000):\n",
    "    ''' \n",
    "    receives the table that was generated in gain_lift_curve function and returns: \n",
    "    - a tuple containg the precision at k and recall at k, respectively\n",
    "    - a new table with precision_at_k and recall_at_k metrics \n",
    "    '''\n",
    "    table.reset_index(drop=True, inplace = True)\n",
    "    table['ranking'] = table.index + 1 # as the index starts in 0 it is necessary to +1\n",
    "    table['precision_at_k'] = table['target'].cumsum() / table['ranking']\n",
    "    table['recall_at_k'] = table['target'].cumsum() / table['target'].sum()\n",
    "    return ((table.loc[k-1, 'precision_at_k'], table.loc[k-1, 'recall_at_k']),table) # as the loc uses index, it is necessary to -1 to return the desired k\n"
   ]
  },
  {
   "cell_type": "markdown",
   "metadata": {},
   "source": [
    "### Function Cross Validation"
   ]
  },
  {
   "cell_type": "code",
   "execution_count": 95,
   "metadata": {},
   "outputs": [],
   "source": [
    "def runCrossValidation (model, x_train, x_val,y_train,y_val, n_splits= 10, n_repeats= 2, top_k = 12200, verbose=False):\n",
    "\n",
    "\n",
    "    if verbose:\n",
    "        # the lenght_msg is to print only once a specific message\n",
    "        length_msg = True\n",
    "        i = 1\n",
    "    \n",
    "        # the seed usage provides repeatability \n",
    "        np.random.seed(1231234)\n",
    "    \n",
    "    # it is necessary to join the train and validation datasets\n",
    "    x = pd.concat([x_train,x_val])\n",
    "    y = pd.concat([y_train,y_val])\n",
    "    \n",
    "    \n",
    "    # definition of the cross-validation strategy\n",
    "    # - the \"n_splits\" parameter is the number of folds (k)\n",
    "    # - the \"n_repeats\" parameter is the number of times cross-validator needs to \n",
    "    #   be repeated\n",
    "    cv = RepeatedStratifiedKFold(n_splits = n_splits, n_repeats = n_repeats )\n",
    "    \n",
    "    precision_at_k = []\n",
    "    recall_at_k = []\n",
    "    \n",
    "    for train_index, prim_val_index in cv.split(x, y):      \n",
    "        x_training, x_prim_val = x.iloc[train_index], x.iloc[prim_val_index]\n",
    "        y_training, y_prim_val = y.iloc[train_index], y.iloc[prim_val_index]\n",
    "        \n",
    "        if (verbose == True) and (length_msg == True):\n",
    "            print(f'training_lenght:{x_training.shape[0]}\\nvalidation_lenght:{x_prim_val.shape[0]}\\n\\n')\n",
    "            length_msg = False\n",
    "        \n",
    "        if verbose:\n",
    "            print(f'Iteration number:{i}')\n",
    "            i += 1\n",
    "\n",
    "        # fit and predict_proba\n",
    "        model.fit(x_training, y_training)\n",
    "        yhat_proba = model.predict_proba(x_prim_val)\n",
    "        \n",
    "        # get results\n",
    "        table = gain_lift_curve(yhat_proba,y_prim_val, plot = False)\n",
    "        metrics, new_table = precision_recall_at_k(table, top_k)\n",
    "        \n",
    "        if verbose:\n",
    "            print(metrics)\n",
    "            print('')\n",
    "        \n",
    "        # save the metrics value to the list\n",
    "        precision_at_k.append(metrics[0])\n",
    "        recall_at_k.append(metrics[1])\n",
    "        \n",
    "    df_results = pd.DataFrame([[np.mean(precision_at_k),np.std(precision_at_k)], \n",
    "                       [np.mean(recall_at_k), np.std(recall_at_k)]],\n",
    "                        columns = [\"mean\", \"std\"])\n",
    "    \n",
    "    df_results.index = [\"precision_at_k\",\"recall_at_k\"]\n",
    "\n",
    "    return(df_results)"
   ]
  },
  {
   "cell_type": "markdown",
   "metadata": {},
   "source": [
    "## Xgboost Cross Validation"
   ]
  },
  {
   "cell_type": "code",
   "execution_count": 98,
   "metadata": {},
   "outputs": [
    {
     "name": "stdout",
     "output_type": "stream",
     "text": [
      "{'n_estimators': 300, 'max_depth': 5, 'scale_pos_weight': 7.15}\n"
     ]
    },
    {
     "data": {
      "text/html": [
       "<div>\n",
       "<style scoped>\n",
       "    .dataframe tbody tr th:only-of-type {\n",
       "        vertical-align: middle;\n",
       "    }\n",
       "\n",
       "    .dataframe tbody tr th {\n",
       "        vertical-align: top;\n",
       "    }\n",
       "\n",
       "    .dataframe thead th {\n",
       "        text-align: right;\n",
       "    }\n",
       "</style>\n",
       "<table border=\"1\" class=\"dataframe\">\n",
       "  <thead>\n",
       "    <tr style=\"text-align: right;\">\n",
       "      <th></th>\n",
       "      <th>mean</th>\n",
       "      <th>std</th>\n",
       "    </tr>\n",
       "  </thead>\n",
       "  <tbody>\n",
       "    <tr>\n",
       "      <th>precision_at_k</th>\n",
       "      <td>0.280459</td>\n",
       "      <td>0.001796</td>\n",
       "    </tr>\n",
       "    <tr>\n",
       "      <th>recall_at_k</th>\n",
       "      <td>0.915772</td>\n",
       "      <td>0.005852</td>\n",
       "    </tr>\n",
       "  </tbody>\n",
       "</table>\n",
       "</div>"
      ],
      "text/plain": [
       "                    mean       std\n",
       "precision_at_k  0.280459  0.001796\n",
       "recall_at_k     0.915772  0.005852"
      ]
     },
     "metadata": {},
     "output_type": "display_data"
    },
    {
     "name": "stdout",
     "output_type": "stream",
     "text": [
      "{'n_estimators': 100, 'max_depth': 3, 'scale_pos_weight': 100}\n"
     ]
    },
    {
     "data": {
      "text/html": [
       "<div>\n",
       "<style scoped>\n",
       "    .dataframe tbody tr th:only-of-type {\n",
       "        vertical-align: middle;\n",
       "    }\n",
       "\n",
       "    .dataframe tbody tr th {\n",
       "        vertical-align: top;\n",
       "    }\n",
       "\n",
       "    .dataframe thead th {\n",
       "        text-align: right;\n",
       "    }\n",
       "</style>\n",
       "<table border=\"1\" class=\"dataframe\">\n",
       "  <thead>\n",
       "    <tr style=\"text-align: right;\">\n",
       "      <th></th>\n",
       "      <th>mean</th>\n",
       "      <th>std</th>\n",
       "    </tr>\n",
       "  </thead>\n",
       "  <tbody>\n",
       "    <tr>\n",
       "      <th>precision_at_k</th>\n",
       "      <td>0.282238</td>\n",
       "      <td>0.00120</td>\n",
       "    </tr>\n",
       "    <tr>\n",
       "      <th>recall_at_k</th>\n",
       "      <td>0.921580</td>\n",
       "      <td>0.00391</td>\n",
       "    </tr>\n",
       "  </tbody>\n",
       "</table>\n",
       "</div>"
      ],
      "text/plain": [
       "                    mean      std\n",
       "precision_at_k  0.282238  0.00120\n",
       "recall_at_k     0.921580  0.00391"
      ]
     },
     "metadata": {},
     "output_type": "display_data"
    },
    {
     "name": "stdout",
     "output_type": "stream",
     "text": [
      "{'n_estimators': 500, 'max_depth': 5, 'scale_pos_weight': 7.15}\n"
     ]
    },
    {
     "data": {
      "text/html": [
       "<div>\n",
       "<style scoped>\n",
       "    .dataframe tbody tr th:only-of-type {\n",
       "        vertical-align: middle;\n",
       "    }\n",
       "\n",
       "    .dataframe tbody tr th {\n",
       "        vertical-align: top;\n",
       "    }\n",
       "\n",
       "    .dataframe thead th {\n",
       "        text-align: right;\n",
       "    }\n",
       "</style>\n",
       "<table border=\"1\" class=\"dataframe\">\n",
       "  <thead>\n",
       "    <tr style=\"text-align: right;\">\n",
       "      <th></th>\n",
       "      <th>mean</th>\n",
       "      <th>std</th>\n",
       "    </tr>\n",
       "  </thead>\n",
       "  <tbody>\n",
       "    <tr>\n",
       "      <th>precision_at_k</th>\n",
       "      <td>0.278742</td>\n",
       "      <td>0.001298</td>\n",
       "    </tr>\n",
       "    <tr>\n",
       "      <th>recall_at_k</th>\n",
       "      <td>0.910165</td>\n",
       "      <td>0.004252</td>\n",
       "    </tr>\n",
       "  </tbody>\n",
       "</table>\n",
       "</div>"
      ],
      "text/plain": [
       "                    mean       std\n",
       "precision_at_k  0.278742  0.001298\n",
       "recall_at_k     0.910165  0.004252"
      ]
     },
     "metadata": {},
     "output_type": "display_data"
    },
    {
     "name": "stdout",
     "output_type": "stream",
     "text": [
      "{'n_estimators': 500, 'max_depth': 9, 'scale_pos_weight': 100}\n"
     ]
    },
    {
     "data": {
      "text/html": [
       "<div>\n",
       "<style scoped>\n",
       "    .dataframe tbody tr th:only-of-type {\n",
       "        vertical-align: middle;\n",
       "    }\n",
       "\n",
       "    .dataframe tbody tr th {\n",
       "        vertical-align: top;\n",
       "    }\n",
       "\n",
       "    .dataframe thead th {\n",
       "        text-align: right;\n",
       "    }\n",
       "</style>\n",
       "<table border=\"1\" class=\"dataframe\">\n",
       "  <thead>\n",
       "    <tr style=\"text-align: right;\">\n",
       "      <th></th>\n",
       "      <th>mean</th>\n",
       "      <th>std</th>\n",
       "    </tr>\n",
       "  </thead>\n",
       "  <tbody>\n",
       "    <tr>\n",
       "      <th>precision_at_k</th>\n",
       "      <td>0.268988</td>\n",
       "      <td>0.001668</td>\n",
       "    </tr>\n",
       "    <tr>\n",
       "      <th>recall_at_k</th>\n",
       "      <td>0.878315</td>\n",
       "      <td>0.005447</td>\n",
       "    </tr>\n",
       "  </tbody>\n",
       "</table>\n",
       "</div>"
      ],
      "text/plain": [
       "                    mean       std\n",
       "precision_at_k  0.268988  0.001668\n",
       "recall_at_k     0.878315  0.005447"
      ]
     },
     "metadata": {},
     "output_type": "display_data"
    },
    {
     "name": "stdout",
     "output_type": "stream",
     "text": [
      "{'n_estimators': 100, 'max_depth': 9, 'scale_pos_weight': 100}\n"
     ]
    },
    {
     "data": {
      "text/html": [
       "<div>\n",
       "<style scoped>\n",
       "    .dataframe tbody tr th:only-of-type {\n",
       "        vertical-align: middle;\n",
       "    }\n",
       "\n",
       "    .dataframe tbody tr th {\n",
       "        vertical-align: top;\n",
       "    }\n",
       "\n",
       "    .dataframe thead th {\n",
       "        text-align: right;\n",
       "    }\n",
       "</style>\n",
       "<table border=\"1\" class=\"dataframe\">\n",
       "  <thead>\n",
       "    <tr style=\"text-align: right;\">\n",
       "      <th></th>\n",
       "      <th>mean</th>\n",
       "      <th>std</th>\n",
       "    </tr>\n",
       "  </thead>\n",
       "  <tbody>\n",
       "    <tr>\n",
       "      <th>precision_at_k</th>\n",
       "      <td>0.272373</td>\n",
       "      <td>0.001331</td>\n",
       "    </tr>\n",
       "    <tr>\n",
       "      <th>recall_at_k</th>\n",
       "      <td>0.889369</td>\n",
       "      <td>0.004385</td>\n",
       "    </tr>\n",
       "  </tbody>\n",
       "</table>\n",
       "</div>"
      ],
      "text/plain": [
       "                    mean       std\n",
       "precision_at_k  0.272373  0.001331\n",
       "recall_at_k     0.889369  0.004385"
      ]
     },
     "metadata": {},
     "output_type": "display_data"
    }
   ],
   "source": [
    "param = {\n",
    "    'n_estimators':  [100, 300, 500],\n",
    "    'max_depth': [3,5,9], \n",
    "    'scale_pos_weight': [1,7.15, 100]\n",
    "}\n",
    "\n",
    "max_eval = 5\n",
    "\n",
    "\n",
    "for i in range(max_eval):\n",
    "    # random choice of dictionary values\n",
    "    hp = {k: random.sample(v,1)[0] for k, v in param.items()}\n",
    "    print(hp)\n",
    "\n",
    "    # model definition\n",
    "    xgbclassifier_model = XGBClassifier(n_estimators = hp['n_estimators'],\n",
    "                                        max_depth = hp['max_depth'],\n",
    "                                        scale_pos_weight = hp['scale_pos_weight'],\n",
    "                                        n_jobs= -1)\n",
    "    \n",
    "    display(runCrossValidation (xgbclassifier_model, x_train, x_val,y_train,y_val, n_splits= 10, n_repeats= 2, top_k = 12200, verbose=False))\n"
   ]
  },
  {
   "cell_type": "code",
   "execution_count": 99,
   "metadata": {},
   "outputs": [
    {
     "name": "stdout",
     "output_type": "stream",
     "text": [
      "╒═════════╤═══════════════════════╤════════════════════════╤═══════════════════════════════════════════════════════════════╕\n",
      "│ model   │ precision@k           │ recall@k               │ hyperparameters                                               │\n",
      "╞═════════╪═══════════════════════╪════════════════════════╪═══════════════════════════════════════════════════════════════╡\n",
      "│ #1      │ 0.280459 +/- 0.001796 │ 0.915772 +/- 0.005852  │ 'n_estimators': 300, 'max_depth': 5, 'scale_pos_weight': 7.15 │\n",
      "├─────────┼───────────────────────┼────────────────────────┼───────────────────────────────────────────────────────────────┤\n",
      "│ #2      │ 0.282238 +/- 0.00120  │ 0.921580 +/- 0.00391   │ 'n_estimators': 100, 'max_depth': 3, 'scale_pos_weight': 100  │\n",
      "├─────────┼───────────────────────┼────────────────────────┼───────────────────────────────────────────────────────────────┤\n",
      "│ #3      │ 0.278742 +/- 0.001298 │ 0.910165 +/- 00.004252 │ 'n_estimators': 500, 'max_depth': 5, 'scale_pos_weight': 7.15 │\n",
      "├─────────┼───────────────────────┼────────────────────────┼───────────────────────────────────────────────────────────────┤\n",
      "│ #4      │ 0.268988 +/- 0.001668 │ 0.878315 +/- 0.005447  │ 'n_estimators': 500, 'max_depth': 9, 'scale_pos_weight': 100  │\n",
      "├─────────┼───────────────────────┼────────────────────────┼───────────────────────────────────────────────────────────────┤\n",
      "│ #5      │ 0.272373 +/- 0.001331 │ 0.889369 +/- 0.004385  │ 'n_estimators': 100, 'max_depth': 9, 'scale_pos_weight': 100  │\n",
      "╘═════════╧═══════════════════════╧════════════════════════╧═══════════════════════════════════════════════════════════════╛\n"
     ]
    }
   ],
   "source": [
    "final_results = {'model':['#1', '#2', '#3', '#4', '#5'],\n",
    "                 'precision_at_k': ['0.280459 +/- 0.001796',\n",
    "                                    '0.282238 +/- 0.00120',\n",
    "                                    '0.278742 +/- 0.001298',\n",
    "                                    '0.268988 +/- 0.001668',\n",
    "                                    '0.272373 +/- 0.001331'],\n",
    "                 'recall_at_k': ['0.915772 +/- 0.005852',\n",
    "                                 '0.921580 +/- 0.00391',\n",
    "                                 '0.910165 +/- 00.004252',\n",
    "                                 '0.878315 +/- 0.005447',\n",
    "                                 '0.889369 +/- 0.004385'],\n",
    "                 'parameters': [\"'n_estimators': 300, 'max_depth': 5, 'scale_pos_weight': 7.15\",\n",
    "                                \"'n_estimators': 100, 'max_depth': 3, 'scale_pos_weight': 100\",\n",
    "                                \"'n_estimators': 500, 'max_depth': 5, 'scale_pos_weight': 7.15\",\n",
    "                                \"'n_estimators': 500, 'max_depth': 9, 'scale_pos_weight': 100\",\n",
    "                                \"'n_estimators': 100, 'max_depth': 9, 'scale_pos_weight': 100\"]\n",
    "                }\n",
    "\n",
    "print(tabulate(final_results, headers=['model','precision@k','recall@k', 'hyperparameters'], tablefmt=\"fancy_grid\"))"
   ]
  },
  {
   "cell_type": "markdown",
   "metadata": {},
   "source": [
    "### Treinamento do modelo com as configurações de melhor performance no Cross Validation"
   ]
  },
  {
   "cell_type": "code",
   "execution_count": 100,
   "metadata": {},
   "outputs": [],
   "source": [
    "# model definition\n",
    "xgbclassifier = XGBClassifier(n_estimators = 100,\n",
    "                            max_depth = 3,\n",
    "                            scale_pos_weight = 100,\n",
    "                            n_jobs= -1)\n",
    "\n",
    "#model Training\n",
    "xgbclassifier.fit(x_train, y_train.values.ravel())\n",
    "\n",
    "#model predict (proba)\n",
    "yhat_proba = xgbclassifier.predict_proba(x_val)"
   ]
  },
  {
   "cell_type": "code",
   "execution_count": 105,
   "metadata": {},
   "outputs": [
    {
     "data": {
      "image/png": "[encoded data removed]",
      "text/plain": [
       "<Figure size 576x720 with 2 Axes>"
      ]
     },
     "metadata": {
      "needs_background": "light"
     },
     "output_type": "display_data"
    }
   ],
   "source": [
    "table_xgb = gain_lift_curve(yhat_proba, y_val)\n",
    "metrics_xgb, new_table_xgb = precision_recall_at_k(table_xgb, 12200)\n",
    "new_table_xgb.to_pickle(model_data+'xgb_table_final.pkl')"
   ]
  },
  {
   "cell_type": "code",
   "execution_count": 106,
   "metadata": {},
   "outputs": [
    {
     "data": {
      "text/html": [
       "<div>\n",
       "<style scoped>\n",
       "    .dataframe tbody tr th:only-of-type {\n",
       "        vertical-align: middle;\n",
       "    }\n",
       "\n",
       "    .dataframe tbody tr th {\n",
       "        vertical-align: top;\n",
       "    }\n",
       "\n",
       "    .dataframe thead th {\n",
       "        text-align: right;\n",
       "    }\n",
       "</style>\n",
       "<table border=\"1\" class=\"dataframe\">\n",
       "  <thead>\n",
       "    <tr style=\"text-align: right;\">\n",
       "      <th></th>\n",
       "      <th>0</th>\n",
       "      <th>1</th>\n",
       "      <th>target</th>\n",
       "      <th>correct</th>\n",
       "      <th>propensity_score</th>\n",
       "      <th>cumulative_propensity_score</th>\n",
       "      <th>cumulative_porc_base</th>\n",
       "      <th>lift</th>\n",
       "      <th>ranking</th>\n",
       "      <th>precision_at_k</th>\n",
       "      <th>recall_at_k</th>\n",
       "    </tr>\n",
       "  </thead>\n",
       "  <tbody>\n",
       "    <tr>\n",
       "      <th>0</th>\n",
       "      <td>0.000437</td>\n",
       "      <td>0.999563</td>\n",
       "      <td>0</td>\n",
       "      <td>no</td>\n",
       "      <td>0.000000</td>\n",
       "      <td>0.000000</td>\n",
       "      <td>0.000033</td>\n",
       "      <td>0.000000</td>\n",
       "      <td>1</td>\n",
       "      <td>0.000000</td>\n",
       "      <td>0.000000</td>\n",
       "    </tr>\n",
       "    <tr>\n",
       "      <th>1</th>\n",
       "      <td>0.000771</td>\n",
       "      <td>0.999229</td>\n",
       "      <td>0</td>\n",
       "      <td>no</td>\n",
       "      <td>0.000000</td>\n",
       "      <td>0.000000</td>\n",
       "      <td>0.000066</td>\n",
       "      <td>0.000000</td>\n",
       "      <td>2</td>\n",
       "      <td>0.000000</td>\n",
       "      <td>0.000000</td>\n",
       "    </tr>\n",
       "    <tr>\n",
       "      <th>2</th>\n",
       "      <td>0.002803</td>\n",
       "      <td>0.997197</td>\n",
       "      <td>1</td>\n",
       "      <td>yes</td>\n",
       "      <td>0.000268</td>\n",
       "      <td>0.000268</td>\n",
       "      <td>0.000098</td>\n",
       "      <td>2.720289</td>\n",
       "      <td>3</td>\n",
       "      <td>0.333333</td>\n",
       "      <td>0.000268</td>\n",
       "    </tr>\n",
       "    <tr>\n",
       "      <th>3</th>\n",
       "      <td>0.005008</td>\n",
       "      <td>0.994992</td>\n",
       "      <td>0</td>\n",
       "      <td>no</td>\n",
       "      <td>0.000000</td>\n",
       "      <td>0.000268</td>\n",
       "      <td>0.000131</td>\n",
       "      <td>2.040217</td>\n",
       "      <td>4</td>\n",
       "      <td>0.250000</td>\n",
       "      <td>0.000268</td>\n",
       "    </tr>\n",
       "    <tr>\n",
       "      <th>4</th>\n",
       "      <td>0.005892</td>\n",
       "      <td>0.994108</td>\n",
       "      <td>0</td>\n",
       "      <td>no</td>\n",
       "      <td>0.000000</td>\n",
       "      <td>0.000268</td>\n",
       "      <td>0.000164</td>\n",
       "      <td>1.632173</td>\n",
       "      <td>5</td>\n",
       "      <td>0.200000</td>\n",
       "      <td>0.000268</td>\n",
       "    </tr>\n",
       "    <tr>\n",
       "      <th>...</th>\n",
       "      <td>...</td>\n",
       "      <td>...</td>\n",
       "      <td>...</td>\n",
       "      <td>...</td>\n",
       "      <td>...</td>\n",
       "      <td>...</td>\n",
       "      <td>...</td>\n",
       "      <td>...</td>\n",
       "      <td>...</td>\n",
       "      <td>...</td>\n",
       "      <td>...</td>\n",
       "    </tr>\n",
       "    <tr>\n",
       "      <th>30484</th>\n",
       "      <td>0.999868</td>\n",
       "      <td>0.000132</td>\n",
       "      <td>0</td>\n",
       "      <td>yes</td>\n",
       "      <td>0.000000</td>\n",
       "      <td>1.000000</td>\n",
       "      <td>0.999869</td>\n",
       "      <td>1.000131</td>\n",
       "      <td>30485</td>\n",
       "      <td>0.122552</td>\n",
       "      <td>1.000000</td>\n",
       "    </tr>\n",
       "    <tr>\n",
       "      <th>30485</th>\n",
       "      <td>0.999907</td>\n",
       "      <td>0.000093</td>\n",
       "      <td>0</td>\n",
       "      <td>yes</td>\n",
       "      <td>0.000000</td>\n",
       "      <td>1.000000</td>\n",
       "      <td>0.999902</td>\n",
       "      <td>1.000098</td>\n",
       "      <td>30486</td>\n",
       "      <td>0.122548</td>\n",
       "      <td>1.000000</td>\n",
       "    </tr>\n",
       "    <tr>\n",
       "      <th>30486</th>\n",
       "      <td>0.999958</td>\n",
       "      <td>0.000043</td>\n",
       "      <td>0</td>\n",
       "      <td>yes</td>\n",
       "      <td>0.000000</td>\n",
       "      <td>1.000000</td>\n",
       "      <td>0.999934</td>\n",
       "      <td>1.000066</td>\n",
       "      <td>30487</td>\n",
       "      <td>0.122544</td>\n",
       "      <td>1.000000</td>\n",
       "    </tr>\n",
       "    <tr>\n",
       "      <th>30487</th>\n",
       "      <td>0.999982</td>\n",
       "      <td>0.000018</td>\n",
       "      <td>0</td>\n",
       "      <td>yes</td>\n",
       "      <td>0.000000</td>\n",
       "      <td>1.000000</td>\n",
       "      <td>0.999967</td>\n",
       "      <td>1.000033</td>\n",
       "      <td>30488</td>\n",
       "      <td>0.122540</td>\n",
       "      <td>1.000000</td>\n",
       "    </tr>\n",
       "    <tr>\n",
       "      <th>30488</th>\n",
       "      <td>0.999985</td>\n",
       "      <td>0.000015</td>\n",
       "      <td>0</td>\n",
       "      <td>yes</td>\n",
       "      <td>0.000000</td>\n",
       "      <td>1.000000</td>\n",
       "      <td>1.000000</td>\n",
       "      <td>1.000000</td>\n",
       "      <td>30489</td>\n",
       "      <td>0.122536</td>\n",
       "      <td>1.000000</td>\n",
       "    </tr>\n",
       "  </tbody>\n",
       "</table>\n",
       "<p>30489 rows × 11 columns</p>\n",
       "</div>"
      ],
      "text/plain": [
       "              0         1  target  ... ranking  precision_at_k  recall_at_k\n",
       "0      0.000437  0.999563       0  ...       1        0.000000     0.000000\n",
       "1      0.000771  0.999229       0  ...       2        0.000000     0.000000\n",
       "2      0.002803  0.997197       1  ...       3        0.333333     0.000268\n",
       "3      0.005008  0.994992       0  ...       4        0.250000     0.000268\n",
       "4      0.005892  0.994108       0  ...       5        0.200000     0.000268\n",
       "...         ...       ...     ...  ...     ...             ...          ...\n",
       "30484  0.999868  0.000132       0  ...   30485        0.122552     1.000000\n",
       "30485  0.999907  0.000093       0  ...   30486        0.122548     1.000000\n",
       "30486  0.999958  0.000043       0  ...   30487        0.122544     1.000000\n",
       "30487  0.999982  0.000018       0  ...   30488        0.122540     1.000000\n",
       "30488  0.999985  0.000015       0  ...   30489        0.122536     1.000000\n",
       "\n",
       "[30489 rows x 11 columns]"
      ]
     },
     "execution_count": 106,
     "metadata": {},
     "output_type": "execute_result"
    }
   ],
   "source": [
    "new_table_xgb"
   ]
  },
  {
   "cell_type": "code",
   "execution_count": 107,
   "metadata": {},
   "outputs": [
    {
     "data": {
      "text/plain": [
       "(0.2818032786885246, 0.9202355460385439)"
      ]
     },
     "execution_count": 107,
     "metadata": {},
     "output_type": "execute_result"
    }
   ],
   "source": [
    "metrics_xgb"
   ]
  },
  {
   "cell_type": "code",
   "execution_count": null,
   "metadata": {},
   "outputs": [],
   "source": []
  }
 ],
 "metadata": {
  "kernelspec": {
   "display_name": "projeto_pa4",
   "language": "python",
   "name": "projeto_pa4"
  },
  "language_info": {
   "codemirror_mode": {
    "name": "ipython",
    "version": 3
   },
   "file_extension": ".py",
   "mimetype": "text/x-python",
   "name": "python",
   "nbconvert_exporter": "python",
   "pygments_lexer": "ipython3",
   "version": "3.9.12"
  },
  "orig_nbformat": 4
 },
 "nbformat": 4,
 "nbformat_minor": 2
}
